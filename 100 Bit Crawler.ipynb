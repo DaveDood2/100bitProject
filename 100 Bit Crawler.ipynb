{
 "cells": [
  {
   "cell_type": "markdown",
   "id": "65cf8ba6",
   "metadata": {},
   "source": [
    "## 100bit Analysis\n",
    "### Drawing in a Community with Limitations\n",
    "#### Crawling 100bit\n",
    "---\n",
    "This is the jupyter notebook for the functions that deal with crawling 100bit's webpages then storing the data in a .xlsx file. If you would like to see the functions that graph the data, see \"100 Bit Project.\"\n",
    "\n",
    "The code below defines the functions used for crawling and scraping data from 100bit. I was originally planning on using BeautifulSoup for crawling 100bit, as I had used it for a previous project for an AI class. However, BeautifulSoup is incapable of grabbing javascript variables, which is how 100bit stores its data. So, Selenium came in handy for simulating a chrome user retrieving 100bit's javascript variables through chrome's debug console.\n",
    "\n",
    "100bit's data is obfuscated as variables with short letter names, but with a bit of experimentation (and help from friends of the community), I was able to figure out the main variables that control 100bit's grid. It's possible to play around with these variables yourself, e.g., type \"u\" into chrome's dev console to see the order of user uploads to a particular No.."
   ]
  },
  {
   "cell_type": "code",
   "execution_count": 17,
   "id": "25b871af",
   "metadata": {},
   "outputs": [],
   "source": [
    "# Using Selenium to run a browser's javascript code with javaa referenced from: https://stackoverflow.com/questions/63965653/how-do-i-run-command-from-web-browser-console-in-python\n",
    "# and also: https://stackoverflow.com/questions/64717302/deprecationwarning-executable-path-has-been-deprecated-selenium-python\n",
    "# and also also: https://stackoverflow.com/questions/48666620/python-selenium-webdriver-stuck-at-get-in-a-loop\n",
    "# And: https://stackoverflow.com/questions/16180428/can-selenium-webdriver-open-browser-windows-silently-in-the-background\n",
    "\n",
    "from asyncio.windows_events import NULL\n",
    "from selenium import webdriver\n",
    "from selenium.webdriver.chrome.service import Service\n",
    "from webdriver_manager.chrome import ChromeDriverManager\n",
    "from time import sleep\n",
    "import xlsxwriter\n",
    "import pandas as pd\n",
    "import sys\n",
    "\n",
    "\n",
    "#The maximum characters that can be written in one cell of a .xlsx file\n",
    "MAX_CELL_SIZE = 32767\n",
    "\n",
    "\n",
    "def findLatestNo():\n",
    "    '''\n",
    "    findLatestNo()\n",
    "    A function to determine what the latest finished No. is.\n",
    "    Returns a number correlating to the latest No. (e.g., 1 for No. 1).\n",
    "    The latest No. should be the first No. that can be seen in the top left of: https://dan-ball.jp/en/javagame/bit/history/\n",
    "    '''\n",
    "    currentNo = 585 #Start at No. 585 as there are at least 585 No.s at the time of writing\n",
    "    NoExists = True\n",
    "    print(\"Checking for new No.s starting at \", currentNo ,\"...\")\n",
    "    while(NoExists):\n",
    "        #URL = 'https://dan-ball.jp/en/javagame/bit/' + str(currentNo) + '.html'\n",
    "        URL = 'https://dan-ball.jp/en/javagame/bit/?code=' + str(currentNo)\n",
    "        ChromeOptions = webdriver.ChromeOptions()\n",
    "        ChromeOptions.add_argument('--disable-browser-side-navigation')\n",
    "        ChromeOptions.add_argument(\"--headless\")\n",
    "        driver = webdriver.Chrome(service=Service(ChromeDriverManager().install()), chrome_options=ChromeOptions)\n",
    "        driver.get(URL)\n",
    "        sleep(3)\n",
    "        placements = driver.execute_script(\"return p\")\n",
    "        #if not all(item is None for item in placements):\n",
    "        if not (placements[0] is None):\n",
    "            print(\"\\tNo.\", currentNo, \"exists.\")\n",
    "            currentNo += 1\n",
    "        else:\n",
    "            NoExists = False\n",
    "            currentNo -= 1\n",
    "    print(\"\\tThe latest No. in the history is: No.\", currentNo)\n",
    "    return currentNo\n",
    "\n",
    "def toGrid(grid):\n",
    "    '''\n",
    "    toGrid()\n",
    "    A print function used for debugging.\n",
    "    grid = an array with 256 * 192 elements with 1's and 0's to represent black/white pixels respectively\n",
    "    prints ASCII art representing the grid.\n",
    "    '''\n",
    "    output = \"\"\n",
    "    for i, x in enumerate(grid):\n",
    "        if ((i % 256) == 0):\n",
    "            output += \"\\n\"\n",
    "        if (x == 1):\n",
    "            #output += u\"▯\"\n",
    "            output += \"1\"\n",
    "        else:\n",
    "            #output += u\"▮\"\n",
    "            output += \"0\"\n",
    "    return output\n",
    "\n",
    "def listToString(list, typeOfData = \"default\"):\n",
    "    '''\n",
    "    listToString()\n",
    "    A function to convert various crawled data into string lists for storing into the 100bit dump.\n",
    "    Certain values are ignored so that I do not have to filter them out later (there are a lot of extra empty\n",
    "    values in array elements, for instance).\n",
    "    list = The javascript list variable that was crawled\n",
    "    typeOfData = a string indicating what kind of data the list correlates to.\n",
    "    Returns a comma-delimited string version of the list\n",
    "    '''\n",
    "    output = \"\"\n",
    "    first = True\n",
    "    previousItem = 0\n",
    "    for x in list:\n",
    "        # Some of the data types have leftover junk data, so I use switch case to lop it off.\n",
    "        if typeOfData == \"users\":\n",
    "            if (x == \"\"):\n",
    "                return output\n",
    "        elif typeOfData == \"dotPlacements\":\n",
    "            if (x is None):\n",
    "                return output\n",
    "        elif typeOfData == \"dotOwner\":\n",
    "            if ((x == 0) and previousItem != 0):\n",
    "                return output \n",
    "        if first:\n",
    "            output += str(x)\n",
    "            first = False\n",
    "        else:\n",
    "            output += \",\" + str(x)\n",
    "        previousItem = x\n",
    "    return output\n",
    "\n",
    "def doWBWrite(wb, row, col, data):\n",
    "    '''\n",
    "    doWBWrite()\n",
    "    A function I wrote to assist in writing to the workbook, as I frequently need to write more data that\n",
    "    can be fit in 1 cell of the .xlsx file. If the data to write is bigger than MAX_CELL_SIZE, remaining\n",
    "    data will be written in the same column on the next row, and the row after that and so on until all data is written.\n",
    "    wb = the workbook object to write to\n",
    "    row = which row to start writing to\n",
    "    col = which column to start writing to\n",
    "    data = the data to be written, either an int or a string usually.\n",
    "    '''\n",
    "    if (type(data) == int):\n",
    "        wb.write(row, col, data)\n",
    "        return\n",
    "    dataSize = len(data)\n",
    "    nextRow = row\n",
    "    dataWritten = 0\n",
    "    while (dataSize > dataWritten):\n",
    "        wb.write(nextRow, col, data[dataWritten:(dataWritten+MAX_CELL_SIZE)])\n",
    "        nextRow += 1\n",
    "        dataWritten += MAX_CELL_SIZE\n",
    "\n",
    "def doCrawl(OUTPUT_FILE, STARTING_NO, ENDING_NO):\n",
    "    '''\n",
    "    doCrawl()\n",
    "    The main engine for crawling. If the OUTPUT_FILE already exists, the crawler engine will check to determine which\n",
    "    No.s are missing, and fill them in accordingly.\n",
    "    OUTPUT_FILE = Which .xlsx file this crawl should write to. The .xlsx file may or may not already exist.\n",
    "    STARTING_NO = The No. to start crawling from.\n",
    "    ENDING_NO = The No. to stop crawling on (inclusive).\n",
    "    '''\n",
    "    print(\"Crawling from\", STARTING_NO, \"to\", ENDING_NO,\"and outputting to\", OUTPUT_FILE)\n",
    "    # Open the URL you want to execute JS\n",
    "    currentNo = STARTING_NO\n",
    "    try:\n",
    "        # Writing to .xlsx files referenced from: https://stackoverflow.com/questions/25883017/xlsxwriter-and-xlwt-writing-a-list-of-strings-to-a-cell\n",
    "        workbook = xlsxwriter.Workbook(OUTPUT_FILE)\n",
    "        # write multiple rows\n",
    "        while (currentNo <= ENDING_NO):\n",
    "            print(\"Scanning: No. \" + str(currentNo) + \" (out of \" + str(ENDING_NO) + \")\")\n",
    "            worksheet = workbook.add_worksheet(\"No.\" + str(currentNo))\n",
    "            #URL = 'https://dan-ball.jp/en/javagame/bit/' + str(currentNo) + '.html'\n",
    "            URL = 'https://dan-ball.jp/en/javagame/bit/?code=' + str(currentNo)\n",
    "            #driver = webdriver.Chrome(chromedriver)\n",
    "            ChromeOptions = webdriver.ChromeOptions()\n",
    "            ChromeOptions.add_argument('--disable-browser-side-navigation')\n",
    "            ChromeOptions.add_argument(\"--headless\")\n",
    "            driver = webdriver.Chrome(service=Service(ChromeDriverManager().install()), chrome_options=ChromeOptions)\n",
    "            driver.get(URL)\n",
    "            sleep(3)\n",
    "            NoObject = {}\n",
    "            NoObject[\"NoNumber\"] = currentNo\n",
    "            driver.execute_script(\"x = 30000\")\n",
    "            NoObject[\"NoDots\"] = driver.execute_script(\"return x\")\n",
    "            NoObject[\"users\"] = driver.execute_script(\"return u\")\n",
    "            NoObject[\"startingGrid\"] = driver.execute_script(\"return g\")\n",
    "            NoObject[\"dotPlacements\"] = driver.execute_script(\"return p\")\n",
    "            NoObject[\"dotOwner\"] = driver.execute_script(\"return aa\")\n",
    "            if (NoObject[\"dotPlacements\"][0] is None):\n",
    "                #Occasionally, 100bit's webpages will load .html without loading javascript variables.\n",
    "                #This is a failsafe to prevent that.\n",
    "                print(\"Failed to get data from No.\", str(currentNo), \". Retrying!\")\n",
    "                driver.quit()\n",
    "                continue\n",
    "            # Add header, referenced from: https://stackoverflow.com/questions/55797151/formatting-only-headers-with-data-using-xlsxwriter\n",
    "            for col, data in enumerate([\"No\", \"Dot Count\", \"Users\", \"Starting Grid\", \"Dot Placements\", \"Dot Owner\"]):\n",
    "                worksheet.write(0, col, data)\n",
    "            doWBWrite(wb=worksheet, row=1, col=0, data=NoObject[\"NoNumber\"])\n",
    "            doWBWrite(wb=worksheet, row=1, col=1, data=NoObject[\"NoDots\"])\n",
    "            doWBWrite(wb=worksheet, row=1, col=2, data=listToString(NoObject[\"users\"], \"users\"))\n",
    "            doWBWrite(wb=worksheet, row=1, col=3, data=listToString(NoObject[\"startingGrid\"], \"startingGrid\"))\n",
    "            doWBWrite(wb=worksheet, row=1, col=4, data=listToString(NoObject[\"dotPlacements\"], \"dotPlacements\"))\n",
    "            doWBWrite(wb=worksheet, row=1, col=5, data=listToString(NoObject[\"dotOwner\"], \"dotOwner\"))\n",
    "            currentNo += 1\n",
    "            driver.quit()\n",
    "    finally:\n",
    "        driver.quit()\n",
    "        workbook.close()\n",
    "        print(\"Done writing data!\")\n",
    "\n",
    "\n",
    "def main(args):\n",
    "    OUTPUT_FILE = \"100bitdump.xlsx\"\n",
    "    startNo = 1\n",
    "    endNo = -1\n",
    "    #wb = pd.read_excel(INPUT_FILE, sheet_name=None, header=None, names=[\"No\", \"Dot Count\", \"Users\", \"Starting Grid\", \"Dot Placements\", \"Dot Owner\"])\n",
    "    if len(args) >= 1:\n",
    "        OUTPUT_FILE = args[0]\n",
    "    if len(args) >= 2:\n",
    "        startNo = int(args[1])\n",
    "        endNo = int(args[1])\n",
    "    if len(args) >= 3:\n",
    "        endNo = int(args[2])\n",
    "    doCrawl(OUTPUT_FILE, startNo, endNo)\n"
   ]
  },
  {
   "cell_type": "markdown",
   "id": "c70de783",
   "metadata": {},
   "source": [
    "Over time, new No.'s are added to 100bit after enough edits to the present No. are made. At the time of writing, the latest No. is at No. 586, however, I made a function to determine what the current completed No. is for crawling the newer No.'s"
   ]
  },
  {
   "cell_type": "code",
   "execution_count": 18,
   "id": "d33bc35c",
   "metadata": {},
   "outputs": [
    {
     "name": "stderr",
     "output_type": "stream",
     "text": [
      "\n",
      "\n",
      "====== WebDriver manager ======\n"
     ]
    },
    {
     "name": "stdout",
     "output_type": "stream",
     "text": [
      "Checking for new No.s starting at  585 ...\n"
     ]
    },
    {
     "name": "stderr",
     "output_type": "stream",
     "text": [
      "Current google-chrome version is 103.0.5060\n",
      "Get LATEST chromedriver version for 103.0.5060 google-chrome\n",
      "Driver [C:\\Users\\artis\\.wdm\\drivers\\chromedriver\\win32\\103.0.5060.134\\chromedriver.exe] found in cache\n",
      "<ipython-input-17-cb8f6152fc4b>:36: DeprecationWarning: use options instead of chrome_options\n",
      "  driver = webdriver.Chrome(service=Service(ChromeDriverManager().install()), chrome_options=ChromeOptions)\n",
      "\n",
      "\n",
      "====== WebDriver manager ======\n"
     ]
    },
    {
     "name": "stdout",
     "output_type": "stream",
     "text": [
      "\tNo. 585 exists.\n"
     ]
    },
    {
     "name": "stderr",
     "output_type": "stream",
     "text": [
      "Current google-chrome version is 103.0.5060\n",
      "Get LATEST chromedriver version for 103.0.5060 google-chrome\n",
      "Driver [C:\\Users\\artis\\.wdm\\drivers\\chromedriver\\win32\\103.0.5060.134\\chromedriver.exe] found in cache\n",
      "\n",
      "\n",
      "====== WebDriver manager ======\n"
     ]
    },
    {
     "name": "stdout",
     "output_type": "stream",
     "text": [
      "\tNo. 586 exists.\n"
     ]
    },
    {
     "name": "stderr",
     "output_type": "stream",
     "text": [
      "Current google-chrome version is 103.0.5060\n",
      "Get LATEST chromedriver version for 103.0.5060 google-chrome\n",
      "Driver [C:\\Users\\artis\\.wdm\\drivers\\chromedriver\\win32\\103.0.5060.134\\chromedriver.exe] found in cache\n",
      "\n",
      "\n",
      "====== WebDriver manager ======\n"
     ]
    },
    {
     "name": "stdout",
     "output_type": "stream",
     "text": [
      "\tNo. 587 exists.\n"
     ]
    },
    {
     "name": "stderr",
     "output_type": "stream",
     "text": [
      "Current google-chrome version is 103.0.5060\n",
      "Get LATEST chromedriver version for 103.0.5060 google-chrome\n",
      "Driver [C:\\Users\\artis\\.wdm\\drivers\\chromedriver\\win32\\103.0.5060.134\\chromedriver.exe] found in cache\n",
      "\n",
      "\n",
      "====== WebDriver manager ======\n"
     ]
    },
    {
     "name": "stdout",
     "output_type": "stream",
     "text": [
      "\tNo. 588 exists.\n"
     ]
    },
    {
     "name": "stderr",
     "output_type": "stream",
     "text": [
      "Current google-chrome version is 103.0.5060\n",
      "Get LATEST chromedriver version for 103.0.5060 google-chrome\n",
      "Driver [C:\\Users\\artis\\.wdm\\drivers\\chromedriver\\win32\\103.0.5060.134\\chromedriver.exe] found in cache\n",
      "\n",
      "\n",
      "====== WebDriver manager ======\n"
     ]
    },
    {
     "name": "stdout",
     "output_type": "stream",
     "text": [
      "\tNo. 589 exists.\n"
     ]
    },
    {
     "name": "stderr",
     "output_type": "stream",
     "text": [
      "Current google-chrome version is 103.0.5060\n",
      "Get LATEST chromedriver version for 103.0.5060 google-chrome\n",
      "Driver [C:\\Users\\artis\\.wdm\\drivers\\chromedriver\\win32\\103.0.5060.134\\chromedriver.exe] found in cache\n",
      "\n",
      "\n",
      "====== WebDriver manager ======\n"
     ]
    },
    {
     "name": "stdout",
     "output_type": "stream",
     "text": [
      "\tNo. 590 exists.\n"
     ]
    },
    {
     "name": "stderr",
     "output_type": "stream",
     "text": [
      "Current google-chrome version is 103.0.5060\n",
      "Get LATEST chromedriver version for 103.0.5060 google-chrome\n",
      "Driver [C:\\Users\\artis\\.wdm\\drivers\\chromedriver\\win32\\103.0.5060.134\\chromedriver.exe] found in cache\n",
      "\n",
      "\n",
      "====== WebDriver manager ======\n"
     ]
    },
    {
     "name": "stdout",
     "output_type": "stream",
     "text": [
      "\tNo. 591 exists.\n"
     ]
    },
    {
     "name": "stderr",
     "output_type": "stream",
     "text": [
      "Current google-chrome version is 103.0.5060\n",
      "Get LATEST chromedriver version for 103.0.5060 google-chrome\n",
      "Driver [C:\\Users\\artis\\.wdm\\drivers\\chromedriver\\win32\\103.0.5060.134\\chromedriver.exe] found in cache\n",
      "\n",
      "\n",
      "====== WebDriver manager ======\n"
     ]
    },
    {
     "name": "stdout",
     "output_type": "stream",
     "text": [
      "\tNo. 592 exists.\n"
     ]
    },
    {
     "name": "stderr",
     "output_type": "stream",
     "text": [
      "Current google-chrome version is 103.0.5060\n",
      "Get LATEST chromedriver version for 103.0.5060 google-chrome\n",
      "Driver [C:\\Users\\artis\\.wdm\\drivers\\chromedriver\\win32\\103.0.5060.134\\chromedriver.exe] found in cache\n",
      "\n",
      "\n",
      "====== WebDriver manager ======\n"
     ]
    },
    {
     "name": "stdout",
     "output_type": "stream",
     "text": [
      "\tNo. 593 exists.\n"
     ]
    },
    {
     "name": "stderr",
     "output_type": "stream",
     "text": [
      "Current google-chrome version is 103.0.5060\n",
      "Get LATEST chromedriver version for 103.0.5060 google-chrome\n",
      "Driver [C:\\Users\\artis\\.wdm\\drivers\\chromedriver\\win32\\103.0.5060.134\\chromedriver.exe] found in cache\n",
      "\n",
      "\n",
      "====== WebDriver manager ======\n"
     ]
    },
    {
     "name": "stdout",
     "output_type": "stream",
     "text": [
      "\tNo. 594 exists.\n"
     ]
    },
    {
     "name": "stderr",
     "output_type": "stream",
     "text": [
      "Current google-chrome version is 103.0.5060\n",
      "Get LATEST chromedriver version for 103.0.5060 google-chrome\n",
      "Driver [C:\\Users\\artis\\.wdm\\drivers\\chromedriver\\win32\\103.0.5060.134\\chromedriver.exe] found in cache\n",
      "\n",
      "\n",
      "====== WebDriver manager ======\n"
     ]
    },
    {
     "name": "stdout",
     "output_type": "stream",
     "text": [
      "\tNo. 595 exists.\n"
     ]
    },
    {
     "name": "stderr",
     "output_type": "stream",
     "text": [
      "Current google-chrome version is 103.0.5060\n",
      "Get LATEST chromedriver version for 103.0.5060 google-chrome\n",
      "Driver [C:\\Users\\artis\\.wdm\\drivers\\chromedriver\\win32\\103.0.5060.134\\chromedriver.exe] found in cache\n",
      "\n",
      "\n",
      "====== WebDriver manager ======\n"
     ]
    },
    {
     "name": "stdout",
     "output_type": "stream",
     "text": [
      "\tNo. 596 exists.\n"
     ]
    },
    {
     "name": "stderr",
     "output_type": "stream",
     "text": [
      "Current google-chrome version is 103.0.5060\n",
      "Get LATEST chromedriver version for 103.0.5060 google-chrome\n",
      "Driver [C:\\Users\\artis\\.wdm\\drivers\\chromedriver\\win32\\103.0.5060.134\\chromedriver.exe] found in cache\n",
      "\n",
      "\n",
      "====== WebDriver manager ======\n"
     ]
    },
    {
     "name": "stdout",
     "output_type": "stream",
     "text": [
      "\tNo. 597 exists.\n"
     ]
    },
    {
     "name": "stderr",
     "output_type": "stream",
     "text": [
      "Current google-chrome version is 103.0.5060\n",
      "Get LATEST chromedriver version for 103.0.5060 google-chrome\n",
      "Driver [C:\\Users\\artis\\.wdm\\drivers\\chromedriver\\win32\\103.0.5060.134\\chromedriver.exe] found in cache\n",
      "\n",
      "\n",
      "====== WebDriver manager ======\n"
     ]
    },
    {
     "name": "stdout",
     "output_type": "stream",
     "text": [
      "\tNo. 598 exists.\n"
     ]
    },
    {
     "name": "stderr",
     "output_type": "stream",
     "text": [
      "Current google-chrome version is 103.0.5060\n",
      "Get LATEST chromedriver version for 103.0.5060 google-chrome\n",
      "Driver [C:\\Users\\artis\\.wdm\\drivers\\chromedriver\\win32\\103.0.5060.134\\chromedriver.exe] found in cache\n"
     ]
    },
    {
     "name": "stdout",
     "output_type": "stream",
     "text": [
      "\tThe latest No. in the history is: No. 598\n",
      "Latest No. is currently: 598\n"
     ]
    }
   ],
   "source": [
    "latestNo = findLatestNo()\n",
    "print(\"Latest No. is currently:\", latestNo)"
   ]
  },
  {
   "cell_type": "markdown",
   "id": "3b499433",
   "metadata": {},
   "source": [
    "The driver function to start the crawler. Originally, I ran the code on a command line, hence why the function is called \"main\". By default, the function below will create the file \"testdump.xlsx\" from No. 580 to whatever the latest No. is. Be warned: the .xlsx writer will overwrite existing .xlsx files, and I haven't added a way for the code to modify and \"fill in\" missing No.'s on an existing .xlsx file"
   ]
  },
  {
   "cell_type": "code",
   "execution_count": 19,
   "id": "77e47614",
   "metadata": {},
   "outputs": [
    {
     "name": "stderr",
     "output_type": "stream",
     "text": [
      "\n",
      "\n",
      "====== WebDriver manager ======\n"
     ]
    },
    {
     "name": "stdout",
     "output_type": "stream",
     "text": [
      "Crawling from 580 to 598 and outputting to testdump.xlsx\n",
      "Scanning: No. 580 (out of 598)\n"
     ]
    },
    {
     "name": "stderr",
     "output_type": "stream",
     "text": [
      "Current google-chrome version is 103.0.5060\n",
      "Get LATEST chromedriver version for 103.0.5060 google-chrome\n",
      "Driver [C:\\Users\\artis\\.wdm\\drivers\\chromedriver\\win32\\103.0.5060.134\\chromedriver.exe] found in cache\n",
      "<ipython-input-17-cb8f6152fc4b>:148: DeprecationWarning: use options instead of chrome_options\n",
      "  driver = webdriver.Chrome(service=Service(ChromeDriverManager().install()), chrome_options=ChromeOptions)\n",
      "\n",
      "\n",
      "====== WebDriver manager ======\n"
     ]
    },
    {
     "name": "stdout",
     "output_type": "stream",
     "text": [
      "Scanning: No. 581 (out of 598)\n"
     ]
    },
    {
     "name": "stderr",
     "output_type": "stream",
     "text": [
      "Current google-chrome version is 103.0.5060\n",
      "Get LATEST chromedriver version for 103.0.5060 google-chrome\n",
      "Driver [C:\\Users\\artis\\.wdm\\drivers\\chromedriver\\win32\\103.0.5060.134\\chromedriver.exe] found in cache\n",
      "\n",
      "\n",
      "====== WebDriver manager ======\n"
     ]
    },
    {
     "name": "stdout",
     "output_type": "stream",
     "text": [
      "Scanning: No. 582 (out of 598)\n"
     ]
    },
    {
     "name": "stderr",
     "output_type": "stream",
     "text": [
      "Current google-chrome version is 103.0.5060\n",
      "Get LATEST chromedriver version for 103.0.5060 google-chrome\n",
      "Driver [C:\\Users\\artis\\.wdm\\drivers\\chromedriver\\win32\\103.0.5060.134\\chromedriver.exe] found in cache\n",
      "\n",
      "\n",
      "====== WebDriver manager ======\n"
     ]
    },
    {
     "name": "stdout",
     "output_type": "stream",
     "text": [
      "Scanning: No. 583 (out of 598)\n"
     ]
    },
    {
     "name": "stderr",
     "output_type": "stream",
     "text": [
      "Current google-chrome version is 103.0.5060\n",
      "Get LATEST chromedriver version for 103.0.5060 google-chrome\n",
      "Driver [C:\\Users\\artis\\.wdm\\drivers\\chromedriver\\win32\\103.0.5060.134\\chromedriver.exe] found in cache\n",
      "\n",
      "\n",
      "====== WebDriver manager ======\n"
     ]
    },
    {
     "name": "stdout",
     "output_type": "stream",
     "text": [
      "Scanning: No. 584 (out of 598)\n"
     ]
    },
    {
     "name": "stderr",
     "output_type": "stream",
     "text": [
      "Current google-chrome version is 103.0.5060\n",
      "Get LATEST chromedriver version for 103.0.5060 google-chrome\n",
      "Driver [C:\\Users\\artis\\.wdm\\drivers\\chromedriver\\win32\\103.0.5060.134\\chromedriver.exe] found in cache\n",
      "\n",
      "\n",
      "====== WebDriver manager ======\n"
     ]
    },
    {
     "name": "stdout",
     "output_type": "stream",
     "text": [
      "Scanning: No. 585 (out of 598)\n"
     ]
    },
    {
     "name": "stderr",
     "output_type": "stream",
     "text": [
      "Current google-chrome version is 103.0.5060\n",
      "Get LATEST chromedriver version for 103.0.5060 google-chrome\n",
      "Driver [C:\\Users\\artis\\.wdm\\drivers\\chromedriver\\win32\\103.0.5060.134\\chromedriver.exe] found in cache\n",
      "\n",
      "\n",
      "====== WebDriver manager ======\n"
     ]
    },
    {
     "name": "stdout",
     "output_type": "stream",
     "text": [
      "Scanning: No. 586 (out of 598)\n"
     ]
    },
    {
     "name": "stderr",
     "output_type": "stream",
     "text": [
      "Current google-chrome version is 103.0.5060\n",
      "Get LATEST chromedriver version for 103.0.5060 google-chrome\n",
      "Driver [C:\\Users\\artis\\.wdm\\drivers\\chromedriver\\win32\\103.0.5060.134\\chromedriver.exe] found in cache\n",
      "\n",
      "\n",
      "====== WebDriver manager ======\n"
     ]
    },
    {
     "name": "stdout",
     "output_type": "stream",
     "text": [
      "Scanning: No. 587 (out of 598)\n"
     ]
    },
    {
     "name": "stderr",
     "output_type": "stream",
     "text": [
      "Current google-chrome version is 103.0.5060\n",
      "Get LATEST chromedriver version for 103.0.5060 google-chrome\n",
      "Driver [C:\\Users\\artis\\.wdm\\drivers\\chromedriver\\win32\\103.0.5060.134\\chromedriver.exe] found in cache\n",
      "\n",
      "\n",
      "====== WebDriver manager ======\n"
     ]
    },
    {
     "name": "stdout",
     "output_type": "stream",
     "text": [
      "Scanning: No. 588 (out of 598)\n"
     ]
    },
    {
     "name": "stderr",
     "output_type": "stream",
     "text": [
      "Current google-chrome version is 103.0.5060\n",
      "Get LATEST chromedriver version for 103.0.5060 google-chrome\n",
      "Driver [C:\\Users\\artis\\.wdm\\drivers\\chromedriver\\win32\\103.0.5060.134\\chromedriver.exe] found in cache\n",
      "\n",
      "\n",
      "====== WebDriver manager ======\n"
     ]
    },
    {
     "name": "stdout",
     "output_type": "stream",
     "text": [
      "Scanning: No. 589 (out of 598)\n"
     ]
    },
    {
     "name": "stderr",
     "output_type": "stream",
     "text": [
      "Current google-chrome version is 103.0.5060\n",
      "Get LATEST chromedriver version for 103.0.5060 google-chrome\n",
      "Driver [C:\\Users\\artis\\.wdm\\drivers\\chromedriver\\win32\\103.0.5060.134\\chromedriver.exe] found in cache\n",
      "\n",
      "\n",
      "====== WebDriver manager ======\n"
     ]
    },
    {
     "name": "stdout",
     "output_type": "stream",
     "text": [
      "Scanning: No. 590 (out of 598)\n"
     ]
    },
    {
     "name": "stderr",
     "output_type": "stream",
     "text": [
      "Current google-chrome version is 103.0.5060\n",
      "Get LATEST chromedriver version for 103.0.5060 google-chrome\n",
      "Driver [C:\\Users\\artis\\.wdm\\drivers\\chromedriver\\win32\\103.0.5060.134\\chromedriver.exe] found in cache\n",
      "\n",
      "\n",
      "====== WebDriver manager ======\n"
     ]
    },
    {
     "name": "stdout",
     "output_type": "stream",
     "text": [
      "Scanning: No. 591 (out of 598)\n"
     ]
    },
    {
     "name": "stderr",
     "output_type": "stream",
     "text": [
      "Current google-chrome version is 103.0.5060\n",
      "Get LATEST chromedriver version for 103.0.5060 google-chrome\n",
      "Driver [C:\\Users\\artis\\.wdm\\drivers\\chromedriver\\win32\\103.0.5060.134\\chromedriver.exe] found in cache\n",
      "\n",
      "\n",
      "====== WebDriver manager ======\n"
     ]
    },
    {
     "name": "stdout",
     "output_type": "stream",
     "text": [
      "Scanning: No. 592 (out of 598)\n"
     ]
    },
    {
     "name": "stderr",
     "output_type": "stream",
     "text": [
      "Current google-chrome version is 103.0.5060\n",
      "Get LATEST chromedriver version for 103.0.5060 google-chrome\n",
      "Driver [C:\\Users\\artis\\.wdm\\drivers\\chromedriver\\win32\\103.0.5060.134\\chromedriver.exe] found in cache\n",
      "\n",
      "\n",
      "====== WebDriver manager ======\n"
     ]
    },
    {
     "name": "stdout",
     "output_type": "stream",
     "text": [
      "Scanning: No. 593 (out of 598)\n"
     ]
    },
    {
     "name": "stderr",
     "output_type": "stream",
     "text": [
      "Current google-chrome version is 103.0.5060\n",
      "Get LATEST chromedriver version for 103.0.5060 google-chrome\n",
      "Driver [C:\\Users\\artis\\.wdm\\drivers\\chromedriver\\win32\\103.0.5060.134\\chromedriver.exe] found in cache\n",
      "\n",
      "\n",
      "====== WebDriver manager ======\n"
     ]
    },
    {
     "name": "stdout",
     "output_type": "stream",
     "text": [
      "Scanning: No. 594 (out of 598)\n"
     ]
    },
    {
     "name": "stderr",
     "output_type": "stream",
     "text": [
      "Current google-chrome version is 103.0.5060\n",
      "Get LATEST chromedriver version for 103.0.5060 google-chrome\n",
      "Driver [C:\\Users\\artis\\.wdm\\drivers\\chromedriver\\win32\\103.0.5060.134\\chromedriver.exe] found in cache\n",
      "\n",
      "\n",
      "====== WebDriver manager ======\n"
     ]
    },
    {
     "name": "stdout",
     "output_type": "stream",
     "text": [
      "Scanning: No. 595 (out of 598)\n"
     ]
    },
    {
     "name": "stderr",
     "output_type": "stream",
     "text": [
      "Current google-chrome version is 103.0.5060\n",
      "Get LATEST chromedriver version for 103.0.5060 google-chrome\n",
      "Driver [C:\\Users\\artis\\.wdm\\drivers\\chromedriver\\win32\\103.0.5060.134\\chromedriver.exe] found in cache\n",
      "\n",
      "\n",
      "====== WebDriver manager ======\n"
     ]
    },
    {
     "name": "stdout",
     "output_type": "stream",
     "text": [
      "Scanning: No. 596 (out of 598)\n"
     ]
    },
    {
     "name": "stderr",
     "output_type": "stream",
     "text": [
      "Current google-chrome version is 103.0.5060\n",
      "Get LATEST chromedriver version for 103.0.5060 google-chrome\n",
      "Driver [C:\\Users\\artis\\.wdm\\drivers\\chromedriver\\win32\\103.0.5060.134\\chromedriver.exe] found in cache\n",
      "\n",
      "\n",
      "====== WebDriver manager ======\n"
     ]
    },
    {
     "name": "stdout",
     "output_type": "stream",
     "text": [
      "Scanning: No. 597 (out of 598)\n"
     ]
    },
    {
     "name": "stderr",
     "output_type": "stream",
     "text": [
      "Current google-chrome version is 103.0.5060\n",
      "Get LATEST chromedriver version for 103.0.5060 google-chrome\n",
      "Driver [C:\\Users\\artis\\.wdm\\drivers\\chromedriver\\win32\\103.0.5060.134\\chromedriver.exe] found in cache\n",
      "\n",
      "\n",
      "====== WebDriver manager ======\n"
     ]
    },
    {
     "name": "stdout",
     "output_type": "stream",
     "text": [
      "Scanning: No. 598 (out of 598)\n"
     ]
    },
    {
     "name": "stderr",
     "output_type": "stream",
     "text": [
      "Current google-chrome version is 103.0.5060\n",
      "Get LATEST chromedriver version for 103.0.5060 google-chrome\n",
      "Driver [C:\\Users\\artis\\.wdm\\drivers\\chromedriver\\win32\\103.0.5060.134\\chromedriver.exe] found in cache\n"
     ]
    },
    {
     "name": "stdout",
     "output_type": "stream",
     "text": [
      "Done writing data!\n"
     ]
    }
   ],
   "source": [
    "main([\"testdump.xlsx\", 580, latestNo])"
   ]
  },
  {
   "cell_type": "markdown",
   "id": "8ca3bc0f",
   "metadata": {},
   "source": [
    "If there were no issues with the internet, then the resulting .xlsx file should be usable by the \"100 Bit Project.ipynb\" notebook.\n",
    "\n",
    "Crawling the entire 100bit database originally took about an hour and a half, but fortunately running the code for creating the heatmaps takes much, much less time.\n",
    "\n",
    "There was some trial and error with the crawling process. Namely, I found out the hard way that if you write more characters to a single cell in a .xlsx file than it can handle, any extra data gets left off with no warnings. As a result, I was missing about half of the data for edits, and most other data wasn't formatted correctly. I later discovered this fact when I noticed that applying edits to the start of No. X did NOT result in a grid that was the same as the start of No. (X + 1).\n",
    "\n",
    "Before that, I also did some tests with different ways to store the database. Storing a lot of data in a .txt file proved to scale poorly, as text files struggle to open when they are several Megabytes large. Likewise, .csv files proved to be a poor means of storing data due to their size limits.\n",
    "\n",
    "While I think I should have used a different library for writing .xlsx files (such as one that allows re-editing existing .xlsx files), the one I chose did the trick well enough for crawling and writing 100bit's entire history in one swoop."
   ]
  },
  {
   "cell_type": "code",
   "execution_count": null,
   "id": "dc901367",
   "metadata": {},
   "outputs": [],
   "source": []
  }
 ],
 "metadata": {
  "kernelspec": {
   "display_name": "Python 3",
   "language": "python",
   "name": "python3"
  },
  "language_info": {
   "codemirror_mode": {
    "name": "ipython",
    "version": 3
   },
   "file_extension": ".py",
   "mimetype": "text/x-python",
   "name": "python",
   "nbconvert_exporter": "python",
   "pygments_lexer": "ipython3",
   "version": "3.8.8"
  }
 },
 "nbformat": 4,
 "nbformat_minor": 5
}
